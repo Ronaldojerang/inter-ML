{
 "cells": [
  {
   "cell_type": "code",
   "execution_count": null,
   "id": "1e67238a",
   "metadata": {},
   "outputs": [],
   "source": [
    "import caer \n",
    "\n",
    "# We need Matplotlib to display the images\n",
    "import matplotlib.pyplot as plt \n",
    "\n",
    "def imshow(tens):\n",
    "    # We expect `tens` to be an RGB image (default in Caer)\n",
    "    plt.imshow(tens)\n",
    "    plt.xticks([]), plt.yticks([])  # Hides the graph ticks and x / y axis\n",
    "    plt.margins(0,0)\n",
    "    plt.show()"
   ]
  },
  {
   "cell_type": "code",
   "execution_count": null,
   "id": "e9057cc4",
   "metadata": {},
   "outputs": [],
   "source": [
    "# Loading a standard image that Caer ships with\n",
    "tens = caer.data.sunrise(rgb=True)\n",
    "\n",
    "# Image Size\n",
    "# Note that tens.shape might follow the (height, width) format \n",
    "print(f\"Original Shape = {tens.shape}\")\n",
    "\n",
    "imshow(tens)"
   ]
  },
  {
   "cell_type": "code",
   "execution_count": null,
   "id": "996b2935",
   "metadata": {},
   "outputs": [],
   "source": [
    "# Currently, our image has a size (640,427)\n",
    "# To resize the image to (230,200) --> follows the (width,height) convention\n",
    "resized = caer.resize(tens, target_size=(230,200))\n",
    "\n",
    "# Resize keeping the original aspect ratio\n",
    "resized_wratio = caer.resize(tens, target_size=(230,200), preserve_aspect_ratio=True)\n",
    "\n",
    "# Resize using a resize_factoer --> Scales the image by .2\n",
    "resized_wfactor = caer.resize(tens, resize_factor=.2)\n",
    "\n",
    "# Display image sizes\n",
    "print(f\"Original Tensor size = {tens.shape}\")\n",
    "print(f\"Hard-Resized Tensor size = {resized.shape}\")\n",
    "print(f\"Aspect Ratio Tensor size = {resized_wratio.shape}\")\n",
    "print(f\"Resize Factor Tensor size = {resized_wfactor.shape}\")\n",
    "\n",
    "fig, (ax1, ax2, ax3, ax4) = plt.subplots(nrows=1, ncols=4, figsize=(20,7))\n",
    "\n",
    "ax1.imshow(tens)\n",
    "ax1.set_title('Original')\n",
    "ax1.yaxis.tick_right()\n",
    "\n",
    "ax2.imshow(resized)\n",
    "ax2.set_title('Hard Resize')\n",
    "ax2.yaxis.tick_right()\n",
    "\n",
    "ax3.imshow(resized)\n",
    "ax3.set_title('Aspect Ratio')\n",
    "ax3.yaxis.tick_right()\n",
    "\n",
    "ax4.imshow(resized_wfactor)\n",
    "ax4.set_title('Resize Factor')\n",
    "ax4.yaxis.tick_right()"
   ]
  },
  {
   "cell_type": "code",
   "execution_count": null,
   "id": "73a63794",
   "metadata": {},
   "outputs": [],
   "source": []
  }
 ],
 "metadata": {
  "kernelspec": {
   "display_name": "Python 3 (ipykernel)",
   "language": "python",
   "name": "python3"
  },
  "language_info": {
   "codemirror_mode": {
    "name": "ipython",
    "version": 3
   },
   "file_extension": ".py",
   "mimetype": "text/x-python",
   "name": "python",
   "nbconvert_exporter": "python",
   "pygments_lexer": "ipython3",
   "version": "3.9.7"
  }
 },
 "nbformat": 4,
 "nbformat_minor": 5
}
